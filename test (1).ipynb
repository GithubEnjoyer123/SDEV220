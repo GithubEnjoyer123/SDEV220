{
 "cells": [
  {
   "cell_type": "code",
   "execution_count": null,
   "id": "bba525f9-93db-4cd2-bda4-4b1d5d7080fb",
   "metadata": {},
   "outputs": [],
   "source": [
    "Name: Justin Phillips\n",
    "Date: 4/22/2024\n",
    "Assignment: M05 Programming Assignment - Testing"
   ]
  },
  {
   "cell_type": "code",
   "execution_count": 1,
   "id": "1058048b-45ff-43f5-b112-e20122b52f8c",
   "metadata": {},
   "outputs": [
    {
     "name": "stderr",
     "output_type": "stream",
     "text": [
      "E\n",
      "======================================================================\n",
      "ERROR: C:\\Users\\bruh\\AppData\\Roaming\\jupyter\\runtime\\kernel-883c232d-053b-4c13-a983-cd8fcce9838c (unittest.loader._FailedTest.C:\\Users\\bruh\\AppData\\Roaming\\jupyter\\runtime\\kernel-883c232d-053b-4c13-a983-cd8fcce9838c)\n",
      "----------------------------------------------------------------------\n",
      "AttributeError: module '__main__' has no attribute 'C:\\Users\\bruh\\AppData\\Roaming\\jupyter\\runtime\\kernel-883c232d-053b-4c13-a983-cd8fcce9838c'\n",
      "\n",
      "----------------------------------------------------------------------\n",
      "Ran 1 test in 0.001s\n",
      "\n",
      "FAILED (errors=1)\n"
     ]
    },
    {
     "ename": "SystemExit",
     "evalue": "True",
     "output_type": "error",
     "traceback": [
      "An exception has occurred, use %tb to see the full traceback.\n",
      "\u001b[1;31mSystemExit\u001b[0m\u001b[1;31m:\u001b[0m True\n"
     ]
    },
    {
     "name": "stderr",
     "output_type": "stream",
     "text": [
      "C:\\Users\\bruh\\anaconda3\\Lib\\site-packages\\IPython\\core\\interactiveshell.py:3561: UserWarning: To exit: use 'exit', 'quit', or Ctrl-D.\n",
      "  warn(\"To exit: use 'exit', 'quit', or Ctrl-D.\", stacklevel=1)\n"
     ]
    }
   ],
   "source": [
    "import unittest\n",
    "from fractions import Fraction\n",
    "\n",
    "from my_sum import sum\n",
    "\n",
    "class TestSum(unittest.TestCase):\n",
    "    def test_list_int(self):\n",
    "        \"\"\"\n",
    "        Test that it can sum a list of integers\n",
    "        \"\"\"\n",
    "        data = [1, 2, 3]\n",
    "        result = sum(data)\n",
    "        self.assertEqual(result, 6)\n",
    "\n",
    "    def test_list_fraction(self):\n",
    "        \"\"\"\n",
    "        Test that it can sum a list of fractions\n",
    "        \"\"\"\n",
    "        data = [Fraction(1, 4), Fraction(1, 4), Fraction(2, 5)]\n",
    "        result = sum(data)\n",
    "        self.assertEqual(result, 1)\n",
    "\n",
    "if __name__ == '__main__':\n",
    "    unittest.main()"
   ]
  },
  {
   "cell_type": "markdown",
   "id": "20ab9708-0914-45ab-b75b-30956409e049",
   "metadata": {},
   "source": [
    "Ran 2 tests in 0.001s\r\n",
    "\r\n",
    "FAILED (failures=1)"
   ]
  },
  {
   "cell_type": "markdown",
   "id": "f2e1ff6a-f2bd-4bdb-bcdb-3acef8e25041",
   "metadata": {},
   "source": [
    "When running the above in my IDE I get failures = 1. This is because I am using 2 testing on 2 functions, TestSum and test_list_faction. \n",
    "\n",
    "TestSum passes, as 1 + 2 + 3 = 6, and it compares the result to the number 6. As both are true it returns a true and doesn't assert an error.\n",
    "\n",
    "test_list_fraction fails, as it's adding .25, .25, and .4 as fractions and comparing the result as equal to 1. Added together, they only equal 0.9 instead of 1, so when asserted it returns a False. Lastly we run our unit test using the unittest library to see if any fail and print that to our terminal, showcasing that we have 1 failure."
   ]
  }
 ],
 "metadata": {
  "kernelspec": {
   "display_name": "Python 3 (ipykernel)",
   "language": "python",
   "name": "python3"
  },
  "language_info": {
   "codemirror_mode": {
    "name": "ipython",
    "version": 3
   },
   "file_extension": ".py",
   "mimetype": "text/x-python",
   "name": "python",
   "nbconvert_exporter": "python",
   "pygments_lexer": "ipython3",
   "version": "3.11.7"
  }
 },
 "nbformat": 4,
 "nbformat_minor": 5
}
