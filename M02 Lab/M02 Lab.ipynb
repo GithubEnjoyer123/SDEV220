{
 "cells": [
  {
   "cell_type": "markdown",
   "id": "a9e2c1f9-069b-4c89-bb60-284fd8ef15e2",
   "metadata": {},
   "source": [
    "\n",
    "Name: Justin Phillips\n",
    "Date: 3/29/2024\n",
    "File name: main.py\n",
    "Description: This program is designed to calculate the GPA of students to see if the qualify for the dean's list.\n",
    "Purpose: Practice using conditionals in python\n",
    "\n",
    "Variables:\n",
    "Name is assigned to the string input from the user to enter a students name\n",
    "gpa is assigned to the float input from the user to assign a GPA including decimal values\n"
   ]
  },
  {
   "cell_type": "code",
   "execution_count": null,
   "id": "b977aac0-8186-4799-b78f-f18a19952869",
   "metadata": {},
   "outputs": [
    {
     "name": "stdin",
     "output_type": "stream",
     "text": [
      "\n",
      "Please enter the students name (Enter ZZZ to cancel):  Jean\n",
      "Please enter students GPA:  3.5\n"
     ]
    },
    {
     "name": "stdout",
     "output_type": "stream",
     "text": [
      "Jean has made the Dean's list! with a GPA of 3.5\n"
     ]
    },
    {
     "name": "stdin",
     "output_type": "stream",
     "text": [
      "\n",
      "Please enter the students name (Enter ZZZ to cancel):  Jack\n",
      "Please enter students GPA:  3.49\n"
     ]
    },
    {
     "name": "stdout",
     "output_type": "stream",
     "text": [
      "Jack has made the Honor roll! with a GPA of 3.49\n"
     ]
    },
    {
     "name": "stdin",
     "output_type": "stream",
     "text": [
      "\n",
      "Please enter the students name (Enter ZZZ to cancel):  Jill\n",
      "Please enter students GPA:  3.25\n"
     ]
    },
    {
     "name": "stdout",
     "output_type": "stream",
     "text": [
      "Jill has made the Honor roll! with a GPA of 3.25\n"
     ]
    },
    {
     "name": "stdin",
     "output_type": "stream",
     "text": [
      "\n",
      "Please enter the students name (Enter ZZZ to cancel):  Bob\n",
      "Please enter students GPA:  2.5\n"
     ]
    },
    {
     "name": "stdout",
     "output_type": "stream",
     "text": [
      "Bobhas a GPA of 2.5\n"
     ]
    },
    {
     "name": "stdin",
     "output_type": "stream",
     "text": [
      "\n",
      "Please enter the students name (Enter ZZZ to cancel):  Mark\n",
      "Please enter students GPA:  0\n"
     ]
    },
    {
     "name": "stdout",
     "output_type": "stream",
     "text": [
      "Markhas a GPA of 0.0\n"
     ]
    }
   ],
   "source": [
    "while True:\n",
    "    name = input('\\nPlease enter the students name (Enter ZZZ to cancel): ')\n",
    "    if name == 'ZZZ':\n",
    "        break\n",
    "    gpa = float(input('Please enter students GPA: '))\n",
    "    if gpa >= 3.5:\n",
    "        print(name + ' has made the Dean\\'s list! with a GPA of ' + str(gpa))\n",
    "    elif gpa >= 3.25:\n",
    "        print(name + ' has made the Honor roll! with a GPA of ' + str(gpa))\n",
    "    else:\n",
    "        print(name + 'has a GPA of ' + str(gpa))"
   ]
  },
  {
   "cell_type": "code",
   "execution_count": null,
   "id": "12070e19-c7b6-4abc-9d42-ab13a38de314",
   "metadata": {},
   "outputs": [],
   "source": []
  }
 ],
 "metadata": {
  "kernelspec": {
   "display_name": "Python 3 (ipykernel)",
   "language": "python",
   "name": "python3"
  },
  "language_info": {
   "codemirror_mode": {
    "name": "ipython",
    "version": 3
   },
   "file_extension": ".py",
   "mimetype": "text/x-python",
   "name": "python",
   "nbconvert_exporter": "python",
   "pygments_lexer": "ipython3",
   "version": "3.11.7"
  }
 },
 "nbformat": 4,
 "nbformat_minor": 5
}
