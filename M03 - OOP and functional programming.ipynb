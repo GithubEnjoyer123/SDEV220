{
 "cells": [
  {
   "cell_type": "markdown",
   "id": "c7394e6e-0587-4a72-acaa-39c6eb070ed0",
   "metadata": {},
   "source": [
    "Name: Justin Phillips\n",
    "Date: 4/10\n",
    "Assignment: M03 Tutorial - Functional vs OOP Programming"
   ]
  },
  {
   "cell_type": "markdown",
   "id": "5d67a6cd-056b-44c7-bfda-e5904945d0ae",
   "metadata": {},
   "source": [
    "OOP Programming:"
   ]
  },
  {
   "cell_type": "code",
   "execution_count": 5,
   "id": "00654b5b-5abd-4076-af65-62036f1be30d",
   "metadata": {},
   "outputs": [
    {
     "data": {
      "text/plain": [
       "[0, 0, 1, 2, 2]"
      ]
     },
     "execution_count": 5,
     "metadata": {},
     "output_type": "execute_result"
    }
   ],
   "source": [
    "class Solution:\n",
    "    def sort012(self,arr,n):\n",
    "        arr.sort() #Simply calling the sort() function solves our example\n",
    "\n",
    "#Setting our input values to call to class function\n",
    "arr = [0,2,1,2,0]\n",
    "n = 5\n",
    "\n",
    "#Creating our object\n",
    "out = Solution()\n",
    "\n",
    "#Calling our function in our class object\n",
    "out.sort012(arr,n)\n",
    "\n",
    "#Printing our new array values\n",
    "arr"
   ]
  },
  {
   "cell_type": "markdown",
   "id": "296beb32-c62a-42e2-9be5-6c03d9ab421e",
   "metadata": {},
   "source": [
    "Functional Programming:"
   ]
  },
  {
   "cell_type": "code",
   "execution_count": 18,
   "id": "b05cf183-53d5-406f-9a0d-cb56343b08cd",
   "metadata": {},
   "outputs": [
    {
     "name": "stdout",
     "output_type": "stream",
     "text": [
      "-1\n",
      "0\n",
      "4\n"
     ]
    }
   ],
   "source": [
    "arr = [11,22,33,44,55]\n",
    "n = 5\n",
    "k = 445\n",
    "#Our function for binary search, given our target value, list, and max index\n",
    "def binarysearch(arr, n, k):\n",
    "    min = 0 #Setting our min as the first arr index (0) to increment in case of midpoint not found (Assuming already sorted list)\n",
    "    while(min <= n-1):\n",
    "        mid = (min+(n-1))//2 #Our midpoint, taking our current min index we're iterating through, adding our max, and dividing by 2\n",
    "        \n",
    "        #If our target is equal to our list value at the midpoint index, we return the index\n",
    "        if k == arr[mid]:\n",
    "            return mid\n",
    "\n",
    "        #If our target is less than our list value at our midpoint index, we reduce the max index we can search by 1\n",
    "        elif k < arr[mid]:\n",
    "            n -= 1\n",
    "\n",
    "        #If our target is greater than our list value at our midpoint index, we increment our min index we can search by 1\n",
    "        else:\n",
    "            min += 1\n",
    "\n",
    "    #If our min index equals our max index value, then that means we don't have the number in our list. So we return a 1\n",
    "    return -1\n",
    "\n",
    "print(binarysearch(arr,n,k))\n",
    "\n",
    "k = 11\n",
    "\n",
    "print(binarysearch(arr,n,k))\n",
    "\n",
    "k = 55\n",
    "\n",
    "print(binarysearch(arr,n,k))"
   ]
  }
 ],
 "metadata": {
  "kernelspec": {
   "display_name": "Python 3 (ipykernel)",
   "language": "python",
   "name": "python3"
  },
  "language_info": {
   "codemirror_mode": {
    "name": "ipython",
    "version": 3
   },
   "file_extension": ".py",
   "mimetype": "text/x-python",
   "name": "python",
   "nbconvert_exporter": "python",
   "pygments_lexer": "ipython3",
   "version": "3.11.7"
  }
 },
 "nbformat": 4,
 "nbformat_minor": 5
}
