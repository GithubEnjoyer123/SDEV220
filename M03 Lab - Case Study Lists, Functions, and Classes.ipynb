{
 "cells": [
  {
   "cell_type": "markdown",
   "id": "5a90c3a3-d188-4795-bcf2-7dd021edf6f3",
   "metadata": {},
   "source": [
    "Name: Justin Phillips\n",
    "Date: 4/10\n",
    "Assignment: M03 Tutorial - Functional vs OOP Programming"
   ]
  },
  {
   "cell_type": "markdown",
   "id": "58d93808-2d4f-4539-b6c7-823563eb60a0",
   "metadata": {},
   "source": [
    "7.4"
   ]
  },
  {
   "cell_type": "code",
   "execution_count": 22,
   "id": "0397af01-3c43-4a26-a790-3fdafd2996d4",
   "metadata": {},
   "outputs": [],
   "source": [
    "things = [\"mozzarella\",\"cinderella\",\"salmonella\"]"
   ]
  },
  {
   "cell_type": "markdown",
   "id": "6b48812b-ef15-4346-967b-5ef015b906bf",
   "metadata": {},
   "source": [
    "7.5"
   ]
  },
  {
   "cell_type": "code",
   "execution_count": 23,
   "id": "a4c4de6d-b714-4109-ac14-263e4d994fa1",
   "metadata": {},
   "outputs": [
    {
     "data": {
      "text/plain": [
       "1"
      ]
     },
     "execution_count": 23,
     "metadata": {},
     "output_type": "execute_result"
    }
   ],
   "source": [
    "things.index(\"cinderella\")"
   ]
  },
  {
   "cell_type": "code",
   "execution_count": 24,
   "id": "9ffb75bb-9500-480c-be4c-ed409cdb0d8b",
   "metadata": {},
   "outputs": [
    {
     "data": {
      "text/plain": [
       "['mozzarella', 'Cinderella', 'salmonella']"
      ]
     },
     "execution_count": 24,
     "metadata": {},
     "output_type": "execute_result"
    }
   ],
   "source": [
    "things[1] = \"Cinderella\"\n",
    "\n",
    "things"
   ]
  },
  {
   "cell_type": "markdown",
   "id": "b80ec618-95b5-4a4c-b58b-270594915adf",
   "metadata": {},
   "source": [
    "7.6"
   ]
  },
  {
   "cell_type": "code",
   "execution_count": 14,
   "id": "32f755ad-c9db-44fa-8f35-a7df5c18c373",
   "metadata": {},
   "outputs": [
    {
     "data": {
      "text/plain": [
       "['MOZZARELLA', 'Cinderella', 'salmonella']"
      ]
     },
     "execution_count": 14,
     "metadata": {},
     "output_type": "execute_result"
    }
   ],
   "source": [
    "things[0] = \"MOZZARELLA\"\n",
    "\n",
    "things"
   ]
  },
  {
   "cell_type": "markdown",
   "id": "e4eabb3e-3474-4f6f-9a13-f128dca974ee",
   "metadata": {},
   "source": [
    "7.7"
   ]
  },
  {
   "cell_type": "code",
   "execution_count": 25,
   "id": "06dee50c-1206-4bb9-badc-9c8ceb686100",
   "metadata": {},
   "outputs": [
    {
     "data": {
      "text/plain": [
       "['mozzarella', 'Cinderella']"
      ]
     },
     "execution_count": 25,
     "metadata": {},
     "output_type": "execute_result"
    }
   ],
   "source": [
    "del things[2]\n",
    "\n",
    "things"
   ]
  },
  {
   "cell_type": "markdown",
   "id": "ee16c3c0-7c03-40b6-a004-966b10ca8681",
   "metadata": {},
   "source": [
    "9.1"
   ]
  },
  {
   "cell_type": "code",
   "execution_count": 27,
   "id": "a46353c1-f756-46fd-84da-095065a6e26f",
   "metadata": {},
   "outputs": [
    {
     "name": "stdout",
     "output_type": "stream",
     "text": [
      "['Harry', 'Ron', 'Hermione']\n"
     ]
    }
   ],
   "source": [
    "def good():\n",
    "    names = ['Harry','Ron','Hermione']\n",
    "    print(names)\n",
    "\n",
    "good()\n"
   ]
  },
  {
   "cell_type": "markdown",
   "id": "540316a1-5ff1-437d-a6fc-fa03daf08743",
   "metadata": {},
   "source": [
    "9.2"
   ]
  },
  {
   "cell_type": "code",
   "execution_count": 34,
   "id": "c0f265ae-2fed-425b-a875-bc8c50fb1779",
   "metadata": {},
   "outputs": [
    {
     "data": {
      "text/plain": [
       "5"
      ]
     },
     "execution_count": 34,
     "metadata": {},
     "output_type": "execute_result"
    }
   ],
   "source": [
    "def get_odds():\n",
    "    total = 1\n",
    "    for i in range(10):\n",
    "        if i % 2 == 0:\n",
    "            continue\n",
    "        else:\n",
    "            if(total == 3):\n",
    "                return i\n",
    "            total += 1\n",
    "\n",
    "get_odds()"
   ]
  },
  {
   "cell_type": "code",
   "execution_count": null,
   "id": "d905d58e-7c0e-44f9-9f25-563fd04e207a",
   "metadata": {},
   "outputs": [],
   "source": []
  }
 ],
 "metadata": {
  "kernelspec": {
   "display_name": "Python 3 (ipykernel)",
   "language": "python",
   "name": "python3"
  },
  "language_info": {
   "codemirror_mode": {
    "name": "ipython",
    "version": 3
   },
   "file_extension": ".py",
   "mimetype": "text/x-python",
   "name": "python",
   "nbconvert_exporter": "python",
   "pygments_lexer": "ipython3",
   "version": "3.11.7"
  }
 },
 "nbformat": 4,
 "nbformat_minor": 5
}
