{
 "cells": [
  {
   "cell_type": "code",
   "execution_count": 3,
   "id": "1d77507b-0b80-46a9-ac42-c6b9951f8450",
   "metadata": {},
   "outputs": [
    {
     "name": "stdout",
     "output_type": "stream",
     "text": [
      "Open 9-5 daily\n"
     ]
    }
   ],
   "source": [
    "from zoo import hours\n",
    "\n",
    "hours()"
   ]
  },
  {
   "cell_type": "code",
   "execution_count": 1,
   "id": "f6237a8f-108e-49ab-a8f1-f3c0ef657050",
   "metadata": {},
   "outputs": [
    {
     "name": "stdout",
     "output_type": "stream",
     "text": [
      "Open 9-5 daily\n"
     ]
    }
   ],
   "source": [
    "from zoo import hours as menagerie\n",
    "\n",
    "menagerie()"
   ]
  },
  {
   "cell_type": "code",
   "execution_count": 2,
   "id": "f705055d-b328-4189-be51-a6891b924057",
   "metadata": {},
   "outputs": [
    {
     "name": "stdout",
     "output_type": "stream",
     "text": [
      "Perdido Street Station\n",
      "Small Gods\n",
      "The Spellman Files\n",
      "The Weirdstone of Brisingamen\n",
      "Thud!\n"
     ]
    }
   ],
   "source": [
    "import csv\n",
    "from sqlalchemy import create_engine\n",
    "from sqlalchemy.orm import declarative_base\n",
    "from sqlalchemy.orm import sessionmaker\n",
    "import sqlalchemy as sa\n",
    "\n",
    "conn = create_engine('sqlite://')\n",
    "\n",
    "Base = declarative_base()\n",
    "\n",
    "class Book(Base):\n",
    "    __tablename__ = 'Book'\n",
    "    title = sa.Column('title', sa.String, primary_key=True)\n",
    "    author = sa.Column('author', sa.String)\n",
    "    year = sa.Column('year', sa.Integer)\n",
    "    def __init__(self, title, author, year):\n",
    "        self.title = title\n",
    "        self.author = author\n",
    "        self.year = year\n",
    "    def __repr__(self):\n",
    "        return \"<Book{}, {}, {})>\".format(self.title, self.author, self.year)\n",
    "\n",
    "\n",
    "Base.metadata.create_all(conn)\n",
    "\n",
    "Session = sessionmaker(bind=conn)\n",
    "session = Session()\n",
    "\n",
    "with open('books2.csv') as file:\n",
    "    reader = csv.reader(file)\n",
    "    next(reader)\n",
    "    for row in reader:\n",
    "        title, author, year = row\n",
    "        book = Book(title = title, author = author, year = int(year))\n",
    "        session.add(book)\n",
    "\n",
    "session.commit()\n",
    "\n",
    "titles = session.query(Book.title).all()\n",
    "for title in titles:\n",
    "    print(title[0])\n",
    "\n",
    "session.close()"
   ]
  },
  {
   "cell_type": "code",
   "execution_count": null,
   "id": "7bf00db9-2ce5-4b32-a4ed-ac62db69c574",
   "metadata": {},
   "outputs": [],
   "source": []
  }
 ],
 "metadata": {
  "kernelspec": {
   "display_name": "Python 3 (ipykernel)",
   "language": "python",
   "name": "python3"
  },
  "language_info": {
   "codemirror_mode": {
    "name": "ipython",
    "version": 3
   },
   "file_extension": ".py",
   "mimetype": "text/x-python",
   "name": "python",
   "nbconvert_exporter": "python",
   "pygments_lexer": "ipython3",
   "version": "3.11.7"
  }
 },
 "nbformat": 4,
 "nbformat_minor": 5
}
