{
 "cells": [
  {
   "cell_type": "markdown",
   "id": "f8ef005e-adc0-46bf-831e-5cbb31a9b731",
   "metadata": {},
   "source": [
    "Name: Justin Phillips\n",
    "Date: 4/10\n",
    "Assignment: M03 Lab"
   ]
  },
  {
   "cell_type": "code",
   "execution_count": 3,
   "id": "783dadf4-4105-4d53-8d2e-6c5a2e479fb5",
   "metadata": {},
   "outputs": [
    {
     "name": "stdout",
     "output_type": "stream",
     "text": [
      "Welcome to the car viewer beta v0.1! We are currently only accepting normal car models.\n"
     ]
    },
    {
     "name": "stdin",
     "output_type": "stream",
     "text": [
      "Enter the year your car was manufactured:  2022\n",
      "Input the company that made your car:  Toyota\n",
      "Input the model of your car:  Corolla\n",
      "Input your number of doors:  4\n",
      "Enter your roof type\n",
      "1. Sunroof\n",
      "2. Normal\n",
      " 2\n"
     ]
    },
    {
     "name": "stdout",
     "output_type": "stream",
     "text": [
      "Vehicle type: car\n",
      "Year: 2022\n",
      "Make: Toyota\n",
      "Model: Corolla\n",
      "Number of doors: 4\n",
      "Type of roof: regular\n"
     ]
    }
   ],
   "source": [
    "#Our super class\n",
    "class Vehicle:\n",
    "    def __init__(self, type):\n",
    "        self.type = type\n",
    "    def getType(self):\n",
    "        return self.type\n",
    "#Our derived class        \n",
    "class Automobile(Vehicle):\n",
    "    #constructor\n",
    "    def __init__(self,type,year,make,model,doors,roof):\n",
    "        super().__init__(type)\n",
    "        self.year = year\n",
    "        self.make = make\n",
    "        self.model = model\n",
    "        self.doors = doors\n",
    "        self.roof = roof\n",
    "    #Our getters to print our stored values\n",
    "    def getYear(self):\n",
    "        return self.year\n",
    "    def getMake(self):\n",
    "        return self.make\n",
    "    def getModel(self):\n",
    "        return self.model\n",
    "\n",
    "    #We use setters for doors to limit amount of doors to 2 or 4\n",
    "    def setDoors(self, doors):\n",
    "        while True:\n",
    "            if doors != \"2\" and doors != \"4\":\n",
    "                doors = input(\"\\nPlease enter either 2 or 4: \")\n",
    "            else:\n",
    "                self.doors = doors\n",
    "                break\n",
    "    def getDoors(self):\n",
    "        return self.doors\n",
    "\n",
    "    #We use a setter for the roof to give an option menu then return a string to match the option\n",
    "    def setRoof(self, roof):\n",
    "        while True:\n",
    "            if roof == \"1\":\n",
    "                self.roof = \"sun roof\"\n",
    "                break\n",
    "            elif roof == \"2\":\n",
    "                self.roof = \"regular\"\n",
    "                break\n",
    "            else:\n",
    "                roof = input(\"Please enter 1 for sun roof, or 2 for regular roof: \")\n",
    "    def getRoof(self):\n",
    "        return self.roof\n",
    "\n",
    "numDoors = int\n",
    "roofType = int\n",
    "\n",
    "#Our menu, we auto return car type and then create an object with all our various inputs, using setters if logic is involved\n",
    "print(\"Welcome to the car viewer beta v0.1! We are currently only accepting normal car models.\")\n",
    "carYear = input(\"Enter the year your car was manufactured: \")\n",
    "carMake = input(\"Input the company that made your car: \")\n",
    "carModel = input(\"Input the model of your car: \")\n",
    "out = Automobile(\"car\",carYear, carMake, carModel, numDoors, roofType)\n",
    "numDoors = input(\"Input your number of doors: \")\n",
    "out.setDoors(numDoors)\n",
    "roofType = input(\"Enter your roof type\\n1. Sunroof\\n2. Normal\\n\")\n",
    "out.setRoof(roofType)\n",
    "\n",
    "#Print statements\n",
    "print(\"Vehicle type: \" + str(out.getType()) + \"\\nYear: \" + str(out.getYear()) + \"\\nMake: \" + str(out.getMake()))\n",
    "print(\"Model: \" + str(out.getModel()) + \"\\nNumber of doors: \" + str(out.getDoors()) + \"\\nType of roof: \" + str(out.getRoof()))"
   ]
  },
  {
   "cell_type": "code",
   "execution_count": null,
   "id": "22c18bb2-d93f-4aed-9d09-a7e1863c3da4",
   "metadata": {},
   "outputs": [],
   "source": []
  }
 ],
 "metadata": {
  "kernelspec": {
   "display_name": "Python 3 (ipykernel)",
   "language": "python",
   "name": "python3"
  },
  "language_info": {
   "codemirror_mode": {
    "name": "ipython",
    "version": 3
   },
   "file_extension": ".py",
   "mimetype": "text/x-python",
   "name": "python",
   "nbconvert_exporter": "python",
   "pygments_lexer": "ipython3",
   "version": "3.11.7"
  }
 },
 "nbformat": 4,
 "nbformat_minor": 5
}
