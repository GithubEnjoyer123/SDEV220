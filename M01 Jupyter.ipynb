{
 "cells": [
  {
   "cell_type": "code",
   "execution_count": 16,
   "id": "676d04f6-921d-4a1f-9d13-8f2918bd2a23",
   "metadata": {},
   "outputs": [
    {
     "data": {
      "text/plain": [
       "'\\nName: Justin Phillips\\nDate: 3/22/2024\\nAssignment: M01 Programming Assignment - Numbers and Types'"
      ]
     },
     "execution_count": 16,
     "metadata": {},
     "output_type": "execute_result"
    }
   ],
   "source": [
    "'''\n",
    "Name: Justin Phillips\n",
    "Date: 3/22/2024\n",
    "Assignment: M01 Programming Assignment - Numbers and Types'''"
   ]
  },
  {
   "cell_type": "code",
   "execution_count": 17,
   "id": "89061fc5-a392-4727-943a-677bbf710dac",
   "metadata": {},
   "outputs": [
    {
     "name": "stdout",
     "output_type": "stream",
     "text": [
      "3600\n"
     ]
    }
   ],
   "source": [
    "minutes = 60\n",
    "hours = 60\n",
    "\n",
    "'''3.2:'''\n",
    "seconds_per_hour = minutes * hour\n",
    "\n",
    "print(seconds_per_hour)"
   ]
  },
  {
   "cell_type": "markdown",
   "id": "715a5fa2-53af-40b1-a436-71b4b731c918",
   "metadata": {},
   "source": [
    "3.1: With 60 seconds being in a minute, and 60 minutes being in an hour, the amount of seconds in an hour would be 60 * 60, or 3600"
   ]
  },
  {
   "cell_type": "code",
   "execution_count": 18,
   "id": "6692c275-6497-460c-8ea5-06fb36286bbd",
   "metadata": {},
   "outputs": [
    {
     "name": "stdout",
     "output_type": "stream",
     "text": [
      "86400\n"
     ]
    }
   ],
   "source": [
    "'''3.3:'''\n",
    "\n",
    "day = 24\n",
    "seconds_per_day = seconds * day\n",
    "\n",
    "print(seconds_per_day)"
   ]
  },
  {
   "cell_type": "markdown",
   "id": "d736fcf6-3ac1-4301-ab39-da5115b793cc",
   "metadata": {},
   "source": [
    "3.4: With there being 3600 seconds in an hour, and 24 hours in a day, then the amount of seconds in a day would be 3600 * 24, or 86,400"
   ]
  },
  {
   "cell_type": "code",
   "execution_count": 19,
   "id": "9cd1a8f8-1947-4269-952a-9ee3772dde91",
   "metadata": {},
   "outputs": [
    {
     "name": "stdout",
     "output_type": "stream",
     "text": [
      "24.0\n"
     ]
    }
   ],
   "source": [
    "'''3.5:'''\n",
    "print(seconds_per_day / seconds_per_hour)"
   ]
  },
  {
   "cell_type": "code",
   "execution_count": 20,
   "id": "946c2f8a-d28d-4c9e-97e6-3ab9628bd7b3",
   "metadata": {},
   "outputs": [
    {
     "name": "stdout",
     "output_type": "stream",
     "text": [
      "24\n"
     ]
    }
   ],
   "source": [
    "print(seconds_per_day // seconds_per_hour)"
   ]
  },
  {
   "cell_type": "markdown",
   "id": "1b80943e-024c-408b-b85d-032f4218f1ad",
   "metadata": {},
   "source": [
    "3.6: Our integer division equates to 24 while floating point equates to 24.0, showing that they agree with eachother."
   ]
  }
 ],
 "metadata": {
  "kernelspec": {
   "display_name": "Python 3 (ipykernel)",
   "language": "python",
   "name": "python3"
  },
  "language_info": {
   "codemirror_mode": {
    "name": "ipython",
    "version": 3
   },
   "file_extension": ".py",
   "mimetype": "text/x-python",
   "name": "python",
   "nbconvert_exporter": "python",
   "pygments_lexer": "ipython3",
   "version": "3.11.7"
  }
 },
 "nbformat": 4,
 "nbformat_minor": 5
}
