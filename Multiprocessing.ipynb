{
 "cells": [
  {
   "cell_type": "markdown",
   "id": "932b2117-4994-4def-a075-27beafc18a9e",
   "metadata": {},
   "source": [
    "Name: Justin Phillips\n",
    "Date: 4/29/2024\n",
    "Assignment: M06 Programming Assignment -Concurrency in Python"
   ]
  },
  {
   "cell_type": "markdown",
   "id": "16a1cb1c-7ec0-4d11-92c3-cac135450b0b",
   "metadata": {},
   "source": [
    "13.1"
   ]
  },
  {
   "cell_type": "code",
   "execution_count": 24,
   "id": "96f8bc6c-4d86-4490-b237-a72457e50361",
   "metadata": {},
   "outputs": [],
   "source": [
    "from datetime import date #imports our date methods\n",
    "\n",
    "today = date.today() #Sets today to todays date\n",
    "\n",
    "toStr = today.strftime('%m/%d/%Y') #formats the date into a string\n",
    "\n",
    "fout = open(\"today.txt\",\"w\") #Sets fout (file output) to the open file today.txt, with the w parameter for writing to it\n",
    "\n",
    "fout.write(toStr) #writes to our file today.txt\n",
    "\n",
    "fout.close() #closes the file"
   ]
  },
  {
   "cell_type": "markdown",
   "id": "7301ac85-423c-4ab0-af5c-788ef2bc6736",
   "metadata": {},
   "source": [
    "13.2"
   ]
  },
  {
   "cell_type": "code",
   "execution_count": 30,
   "id": "8233f60f-1e70-4467-86d7-a9c64a332374",
   "metadata": {},
   "outputs": [
    {
     "data": {
      "text/plain": [
       "'04/29/2024'"
      ]
     },
     "execution_count": 30,
     "metadata": {},
     "output_type": "execute_result"
    }
   ],
   "source": [
    "fin = open(\"today.txt\",\"r\") #Sets fin (file input) to the open file today.txt, with the r parameter for reading\n",
    "\n",
    "today_string = fin.read() #Reads from our file 1 line at a time.\n",
    "\n",
    "today_string\n",
    "\n",
    "fin.close()"
   ]
  },
  {
   "cell_type": "markdown",
   "id": "b2ec8a60-d071-4463-a68f-847d755f5f09",
   "metadata": {},
   "source": [
    "13.3"
   ]
  },
  {
   "cell_type": "code",
   "execution_count": 34,
   "id": "59473028-6bcb-4bb5-8c9f-47556ca03e84",
   "metadata": {},
   "outputs": [
    {
     "name": "stdout",
     "output_type": "stream",
     "text": [
      "2024-04-29\n"
     ]
    }
   ],
   "source": [
    "from dateutil.parser import parse #imports our parsing module\n",
    "\n",
    "date = parse(today_string) # parses our string back to date format\n",
    "print(date.strftime('%Y-%m-%d')) # Prints an example reformatted date"
   ]
  },
  {
   "cell_type": "markdown",
   "id": "61a84773-c761-4d9a-966e-026727f83903",
   "metadata": {},
   "source": [
    "15.1"
   ]
  },
  {
   "cell_type": "code",
   "execution_count": null,
   "id": "97d5d674-6660-44e8-bd15-2c75de48be1a",
   "metadata": {},
   "outputs": [],
   "source": [
    "import multiprocessing\n",
    "import time\n",
    "import random\n",
    "\n",
    "def t1():\n",
    "    clocker = random.uniform(0,1) #Decides a random number between 0 and 1\n",
    "    time.sleep(clocker) #returns the random amount of time\n",
    "    print(time.time())\n",
    "    return\n",
    "\n",
    "temp = 0\n",
    "\n",
    "begin = time.time()\n",
    "if __name__ == \"__main__\":\n",
    "    proc = []\n",
    "    \n",
    "    for i in range(3):\n",
    "        p = multiprocessing.Process(target=t1, name=f\"{i+1}\")\n",
    "        proc.append(p)\n",
    "        p.start()\n",
    "        temp += 1\n"
   ]
  },
  {
   "cell_type": "code",
   "execution_count": null,
   "id": "618afba8-e989-42dd-b080-9730d005b566",
   "metadata": {},
   "outputs": [],
   "source": []
  },
  {
   "cell_type": "code",
   "execution_count": null,
   "id": "f59040fb-e861-4ddb-a1ef-dd110013f8fd",
   "metadata": {},
   "outputs": [],
   "source": []
  }
 ],
 "metadata": {
  "kernelspec": {
   "display_name": "Python 3 (ipykernel)",
   "language": "python",
   "name": "python3"
  },
  "language_info": {
   "codemirror_mode": {
    "name": "ipython",
    "version": 3
   },
   "file_extension": ".py",
   "mimetype": "text/x-python",
   "name": "python",
   "nbconvert_exporter": "python",
   "pygments_lexer": "ipython3",
   "version": "3.11.7"
  }
 },
 "nbformat": 4,
 "nbformat_minor": 5
}
