{
 "cells": [
  {
   "cell_type": "markdown",
   "id": "17898a07-bfba-4264-9165-e16b9eadfdf0",
   "metadata": {},
   "source": [
    "Name: Justin Phillips\n",
    "Date: 3/29/2024\n",
    "Assignmment: M02 Loops and Conditionals"
   ]
  },
  {
   "cell_type": "markdown",
   "id": "be0c4323-85a6-4abb-82ff-a4cf6a18e82e",
   "metadata": {},
   "source": [
    "4.1"
   ]
  },
  {
   "cell_type": "code",
   "execution_count": 29,
   "id": "d0679789-30a7-4bfd-a51c-abc97be8b334",
   "metadata": {},
   "outputs": [
    {
     "name": "stdout",
     "output_type": "stream",
     "text": [
      "just right\n"
     ]
    }
   ],
   "source": [
    "secret = 8\n",
    "guess = 5\n",
    "\n",
    "if guess > secret:\n",
    "    print('too high')\n",
    "elif guess < secret:\n",
    "    print('too low')\n",
    "else:\n",
    "    print('just right')\n",
    "    "
   ]
  },
  {
   "cell_type": "markdown",
   "id": "3cbe634a-2513-45d2-9db6-f74809aed53b",
   "metadata": {},
   "source": [
    "4.2"
   ]
  },
  {
   "cell_type": "code",
   "execution_count": 7,
   "id": "40f538c2-06ab-4f88-8469-6b135a7cc29c",
   "metadata": {},
   "outputs": [
    {
     "name": "stdout",
     "output_type": "stream",
     "text": [
      "looks like you have a watermelon!\n"
     ]
    }
   ],
   "source": [
    "green = True\n",
    "small = False\n",
    "\n",
    "#Below we use & to represent AND and ~ or represent NOT\n",
    "\n",
    "if(green & small):\n",
    "    print(\"looks like you have a pea!\")\n",
    "elif(~green & small):\n",
    "    print(\"looks like you have a cherry!\")\n",
    "elif(green & ~small):\n",
    "    print(\"looks like you have a watermelon!\")\n",
    "elif(~green & ~small):\n",
    "    print(\"looks like you have a pumpkin!\")\n",
    "else:\n",
    "    print(\"looks like you don't have anything in your basket!\")"
   ]
  },
  {
   "cell_type": "markdown",
   "id": "7cac1111-d158-4bca-a235-956f7734e593",
   "metadata": {},
   "source": [
    "6.1"
   ]
  },
  {
   "cell_type": "code",
   "execution_count": 8,
   "id": "19f08210-504c-486d-b61d-e20eb9078ec5",
   "metadata": {},
   "outputs": [
    {
     "name": "stdout",
     "output_type": "stream",
     "text": [
      "3\n",
      "2\n",
      "1\n",
      "0\n"
     ]
    }
   ],
   "source": [
    "list = [3,2,1,0]\n",
    "\n",
    "for n in list:\n",
    "    print(n)\n"
   ]
  },
  {
   "cell_type": "markdown",
   "id": "6748e841-6ee7-4d86-a98b-d13047c7f0f3",
   "metadata": {},
   "source": [
    "6.2"
   ]
  },
  {
   "cell_type": "code",
   "execution_count": 25,
   "id": "68a44f77-c6d6-4ac0-850b-600556835c2d",
   "metadata": {
    "scrolled": true
   },
   "outputs": [
    {
     "name": "stdout",
     "output_type": "stream",
     "text": [
      "too low\n",
      "too low\n",
      "too low\n",
      "too low\n",
      "too low\n",
      "too low\n",
      "found it!\n"
     ]
    }
   ],
   "source": [
    "guess_me = 7\n",
    "number = 1\n",
    "\n",
    "while number <= guess_me:\n",
    "    if number < guess_me:\n",
    "        print('too low')\n",
    "        number += 1\n",
    "    elif number == guess_me:\n",
    "        print('found it!')\n",
    "        break\n",
    "    else:\n",
    "        print('oops')\n",
    "        break"
   ]
  },
  {
   "cell_type": "markdown",
   "id": "60e0c2f7-6fb0-4bec-9b69-ba14956b4d17",
   "metadata": {},
   "source": [
    "6.3"
   ]
  },
  {
   "cell_type": "code",
   "execution_count": 28,
   "id": "a36c8426-68a5-4a51-b45d-a7f79b7ef0bb",
   "metadata": {},
   "outputs": [
    {
     "name": "stdout",
     "output_type": "stream",
     "text": [
      "too low\n",
      "too low\n",
      "too low\n",
      "too low\n",
      "too low\n",
      "found it!\n"
     ]
    }
   ],
   "source": [
    "guess_me = 5\n",
    "\n",
    "for number in range(10):\n",
    "    if number < guess_me:\n",
    "        print('too low')\n",
    "    elif number == guess_me:\n",
    "        print('found it!')\n",
    "        break\n",
    "    else:\n",
    "        print('oops')\n",
    "        break"
   ]
  },
  {
   "cell_type": "code",
   "execution_count": null,
   "id": "35ce2d74-db44-43c2-91e5-1a6d4ca9e456",
   "metadata": {},
   "outputs": [],
   "source": []
  }
 ],
 "metadata": {
  "kernelspec": {
   "display_name": "Python 3 (ipykernel)",
   "language": "python",
   "name": "python3"
  },
  "language_info": {
   "codemirror_mode": {
    "name": "ipython",
    "version": 3
   },
   "file_extension": ".py",
   "mimetype": "text/x-python",
   "name": "python",
   "nbconvert_exporter": "python",
   "pygments_lexer": "ipython3",
   "version": "3.11.7"
  }
 },
 "nbformat": 4,
 "nbformat_minor": 5
}
